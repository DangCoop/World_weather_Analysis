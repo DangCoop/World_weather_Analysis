{
 "cells": [
  {
   "cell_type": "code",
   "execution_count": 19,
   "id": "c383c317",
   "metadata": {},
   "outputs": [],
   "source": [
    "import random\n",
    "import numpy as np"
   ]
  },
  {
   "cell_type": "code",
   "execution_count": 20,
   "id": "684e0b84",
   "metadata": {},
   "outputs": [
    {
     "data": {
      "text/plain": [
       "0.6724012806407633"
      ]
     },
     "execution_count": 20,
     "metadata": {},
     "output_type": "execute_result"
    }
   ],
   "source": [
    "random.random()"
   ]
  },
  {
   "cell_type": "code",
   "execution_count": 21,
   "id": "cfed6d33",
   "metadata": {},
   "outputs": [
    {
     "data": {
      "text/plain": [
       "11"
      ]
     },
     "execution_count": 21,
     "metadata": {},
     "output_type": "execute_result"
    }
   ],
   "source": [
    "random.randint(-90,90)"
   ]
  },
  {
   "cell_type": "code",
   "execution_count": 22,
   "id": "a4be3373",
   "metadata": {},
   "outputs": [
    {
     "data": {
      "text/plain": [
       "33"
      ]
     },
     "execution_count": 22,
     "metadata": {},
     "output_type": "execute_result"
    }
   ],
   "source": [
    "random.randint(-90,90)"
   ]
  },
  {
   "cell_type": "code",
   "execution_count": 23,
   "id": "8cb07e41",
   "metadata": {},
   "outputs": [],
   "source": [
    "x = 1\n",
    "latitudes = []\n",
    "while x < 11:\n",
    "    random_lat = random.randint(-90, 89) + random.random()\n",
    "    latitudes.append(random_lat)\n",
    "    x += 1"
   ]
  },
  {
   "cell_type": "code",
   "execution_count": 24,
   "id": "c89338b5",
   "metadata": {},
   "outputs": [
    {
     "data": {
      "text/plain": [
       "[-23.249759879699845,\n",
       " -12.036286621559844,\n",
       " -37.682648338170424,\n",
       " -67.79529759122599,\n",
       " 13.362963417834019,\n",
       " -35.642013922143576,\n",
       " -0.4338123192982649,\n",
       " -84.08765327371691,\n",
       " 77.0532550627436,\n",
       " -80.60559046121455]"
      ]
     },
     "execution_count": 24,
     "metadata": {},
     "output_type": "execute_result"
    }
   ],
   "source": [
    "latitudes"
   ]
  },
  {
   "cell_type": "code",
   "execution_count": 25,
   "id": "170de45f",
   "metadata": {},
   "outputs": [
    {
     "data": {
      "text/plain": [
       "-87.1052117140965"
      ]
     },
     "execution_count": 25,
     "metadata": {},
     "output_type": "execute_result"
    }
   ],
   "source": [
    "random.uniform(-90,90)"
   ]
  },
  {
   "cell_type": "code",
   "execution_count": 26,
   "id": "96cef1a8",
   "metadata": {},
   "outputs": [
    {
     "data": {
      "text/plain": [
       "-76.87633184520473"
      ]
     },
     "execution_count": 26,
     "metadata": {},
     "output_type": "execute_result"
    }
   ],
   "source": [
    "np.random.uniform(-90.000, 90.000)"
   ]
  },
  {
   "cell_type": "code",
   "execution_count": 27,
   "id": "9babffb4",
   "metadata": {},
   "outputs": [
    {
     "data": {
      "text/plain": [
       "-20.29279112346822"
      ]
     },
     "execution_count": 27,
     "metadata": {},
     "output_type": "execute_result"
    }
   ],
   "source": [
    "np.random.uniform(low=-90, high=90)"
   ]
  },
  {
   "cell_type": "code",
   "execution_count": 29,
   "id": "83bdd9f3",
   "metadata": {},
   "outputs": [
    {
     "data": {
      "text/plain": [
       "array([ 10.39660733, -53.45331229,  76.44802529, -46.37880869,\n",
       "       -72.32259463, -75.6755117 , -65.65334776,  21.39487594,\n",
       "       -89.94113393,  -0.94797303,  51.18440014, -60.79861417,\n",
       "       -78.94506479, -32.58453215, -29.4096535 , -84.76815684,\n",
       "        -8.36349165, -27.21151719, -59.5825323 , -76.38005343,\n",
       "       -47.54588496,  20.21611864, -42.57991322,  63.3908585 ,\n",
       "       -37.58665079, -25.19733819, -15.82906959,  -9.61855146,\n",
       "        45.27040861,  -7.77281907,  49.69557391, -58.94902293,\n",
       "       -34.83159901,  86.09983311,  58.75026324, -46.15436602,\n",
       "       -38.63043535, -12.45251842,  67.16657564, -75.86112463,\n",
       "         7.2924758 , -87.92125918,  11.01805749,  71.71084547,\n",
       "       -85.46313647, -49.00415146,   2.26136498,  25.7676162 ,\n",
       "         7.55181242, -30.85441152])"
      ]
     },
     "execution_count": 29,
     "metadata": {},
     "output_type": "execute_result"
    }
   ],
   "source": [
    "np.random.uniform(-90.000, 90.000, size=50)"
   ]
  },
  {
   "cell_type": "code",
   "execution_count": 30,
   "id": "20ab0663",
   "metadata": {},
   "outputs": [],
   "source": [
    "import timeit"
   ]
  },
  {
   "cell_type": "code",
   "execution_count": 31,
   "id": "bcb71de8",
   "metadata": {},
   "outputs": [
    {
     "name": "stdout",
     "output_type": "stream",
     "text": [
      "11.8 µs ± 296 ns per loop (mean ± std. dev. of 7 runs, 100,000 loops each)\n"
     ]
    }
   ],
   "source": [
    "%timeit np.random.uniform(-90.000, 90.000, size=1500)"
   ]
  },
  {
   "cell_type": "code",
   "execution_count": 32,
   "id": "192e91a0",
   "metadata": {},
   "outputs": [
    {
     "name": "stdout",
     "output_type": "stream",
     "text": [
      "1.22 ms ± 87.6 µs per loop (mean ± std. dev. of 7 runs, 1,000 loops each)\n"
     ]
    }
   ],
   "source": [
    "def latitudes(size):\n",
    "    latitudes = []\n",
    "    x = 0\n",
    "    while x < (size):\n",
    "        random_lat = random.randint(-90, 90) + random.random()\n",
    "        latitudes.append(random_lat)\n",
    "        x += 1\n",
    "    return latitudes\n",
    "# Call the function with 1500.\n",
    "%timeit latitudes(1500)"
   ]
  },
  {
   "cell_type": "code",
   "execution_count": null,
   "id": "2df8e605",
   "metadata": {},
   "outputs": [],
   "source": []
  }
 ],
 "metadata": {
  "kernelspec": {
   "display_name": "PythonData",
   "language": "python",
   "name": "pythondata"
  },
  "language_info": {
   "codemirror_mode": {
    "name": "ipython",
    "version": 3
   },
   "file_extension": ".py",
   "mimetype": "text/x-python",
   "name": "python",
   "nbconvert_exporter": "python",
   "pygments_lexer": "ipython3",
   "version": "3.9.12"
  }
 },
 "nbformat": 4,
 "nbformat_minor": 5
}
